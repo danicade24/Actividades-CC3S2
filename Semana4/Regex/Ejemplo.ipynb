{
 "cells": [
  {
   "cell_type": "code",
   "execution_count": 2,
   "metadata": {},
   "outputs": [
    {
     "name": "stdout",
     "output_type": "stream",
     "text": [
      "['hola']\n"
     ]
    }
   ],
   "source": [
    "import re\n",
    "\n",
    "text = \"hola mundo\"\n",
    "pattern = r'h.l.'\n",
    "matche = re.findall(pattern, text)\n",
    "print(matche)"
   ]
  },
  {
   "cell_type": "code",
   "execution_count": 15,
   "metadata": {},
   "outputs": [
    {
     "name": "stdout",
     "output_type": "stream",
     "text": [
      "['goooooooooal']\n",
      "[]\n"
     ]
    }
   ],
   "source": [
    "texto = \"goooooooooal\"\n",
    "patron_asterisco = r'go*al'\n",
    "match1 = re.findall(patron_asterisco,texto)\n",
    "print(match1)\n",
    "\n",
    "texto = \"gal\"\n",
    "patron_asterisco = r'go+al'\n",
    "match1 = re.findall(patron_asterisco,texto)\n",
    "print(match1)"
   ]
  },
  {
   "cell_type": "code",
   "execution_count": 14,
   "metadata": {},
   "outputs": [
    {
     "name": "stdout",
     "output_type": "stream",
     "text": [
      "['color']\n",
      "[]\n"
     ]
    }
   ],
   "source": [
    "texto = \"color\"\n",
    "patron = r'colou?r'\n",
    "match2 = re.findall(patron,texto)\n",
    "print(match2)\n",
    "\n",
    "patron = r'colou?a'\n",
    "match2 = re.findall(patron,texto)\n",
    "print(match2)"
   ]
  },
  {
   "cell_type": "code",
   "execution_count": 17,
   "metadata": {},
   "outputs": [
    {
     "name": "stdout",
     "output_type": "stream",
     "text": [
      "['Python 3.12.3']\n"
     ]
    }
   ],
   "source": [
    "texto = \"Python 3.12.3\"\n",
    "patron = r'[Pp]ython [0-9]\\.[0-9][0-9]\\.[0-9]'\n",
    "match3 = re.findall(patron,texto)\n",
    "print(match3)"
   ]
  },
  {
   "cell_type": "markdown",
   "metadata": {},
   "source": [
    "Utilizando ^ al inicio dentro de los corchetes, negamos el conjunto."
   ]
  },
  {
   "cell_type": "code",
   "execution_count": 24,
   "metadata": {},
   "outputs": [
    {
     "name": "stdout",
     "output_type": "stream",
     "text": [
      "[]\n"
     ]
    }
   ],
   "source": [
    "texto = \"apple, banana, cherry\"\n",
    "patron = r'[^b]anana'\n",
    "print(re.findall(patron,texto))"
   ]
  },
  {
   "cell_type": "code",
   "execution_count": 25,
   "metadata": {},
   "outputs": [
    {
     "name": "stdout",
     "output_type": "stream",
     "text": [
      "['ooooo']\n"
     ]
    }
   ],
   "source": [
    "text = \"Hellooooo world\"\n",
    "patron = r'o{2,5}'\n",
    "print(re.findall(patron,text))"
   ]
  },
  {
   "cell_type": "code",
   "execution_count": 28,
   "metadata": {},
   "outputs": [
    {
     "name": "stdout",
     "output_type": "stream",
     "text": [
      "['aaac', 'ac', 'c', 'aac']\n",
      "['aaac', 'ac', 'aac']\n"
     ]
    }
   ],
   "source": [
    "texto = \"aaac ac adc aac\"\n",
    "patron_ast = r'a*c'\n",
    "patron_mas = r'a+c'\n",
    "\n",
    "print(re.findall(patron_ast,texto))\n",
    "print(re.findall(patron_mas,texto))"
   ]
  },
  {
   "cell_type": "code",
   "execution_count": 29,
   "metadata": {},
   "outputs": [
    {
     "name": "stdout",
     "output_type": "stream",
     "text": [
      "['Python']\n",
      "['Python.']\n"
     ]
    }
   ],
   "source": [
    "texto = \"Python es genial.\\nAprendiendo Python.\"\n",
    "patron_inicio = r'^Python'\n",
    "patron_final = r'Python\\.'\n",
    "print(re.findall(patron_inicio,texto, re.MULTILINE))\n",
    "print(re.findall(patron_final,texto,re.MULTILINE))"
   ]
  },
  {
   "cell_type": "code",
   "execution_count": 36,
   "metadata": {},
   "outputs": [
    {
     "name": "stdout",
     "output_type": "stream",
     "text": [
      "['pelota']\n"
     ]
    }
   ],
   "source": [
    "texto = \"La pelota es redonda.\"\n",
    "patron = r'\\bpelota\\b'\n",
    "print(re.findall(patron,texto))"
   ]
  },
  {
   "cell_type": "markdown",
   "metadata": {},
   "source": [
    "### Grupos y referencias\n",
    "Uso de paréntesis () para agrupar\n",
    "\n",
    "Los paréntesis permiten:\n",
    "\n",
    "- Agrupar partes de una expresión regular.\n",
    "- Capturar subcadenas coincidentes.\n"
   ]
  },
  {
   "cell_type": "code",
   "execution_count": 46,
   "metadata": {},
   "outputs": [
    {
     "name": "stdout",
     "output_type": "stream",
     "text": [
      "Dia: 02, Mes: 10, Año: 2024\n"
     ]
    }
   ],
   "source": [
    "texto = \"Hoy es 02/10/2024\"\n",
    "patron = r\"(\\d{2})/(\\d{2})/(\\d{4})\"\n",
    "resultado = re.search(patron, texto)\n",
    "if resultado:\n",
    "    dia, mes, anio = resultado.groups()\n",
    "    print(f\"Dia: {dia}, Mes: {mes}, Año: {anio}\")"
   ]
  },
  {
   "cell_type": "code",
   "execution_count": 49,
   "metadata": {},
   "outputs": [
    {
     "name": "stdout",
     "output_type": "stream",
     "text": [
      "[('02', '10', '2024')]\n"
     ]
    }
   ],
   "source": [
    "texto = \"Hoy es 02/10/2024\"\n",
    "patron = r\"(\\d{2})/(\\d{2})/(\\d{4})\"\n",
    "resultado = re.findall(patron, texto)\n",
    "print(resultado)"
   ]
  },
  {
   "cell_type": "markdown",
   "metadata": {},
   "source": [
    "### Referencias hacia atrás (Backreferences)\n",
    "Permiten referirse a un grupo capturado anteriormente dentro de la misma expresión regular."
   ]
  },
  {
   "cell_type": "code",
   "execution_count": 64,
   "metadata": {},
   "outputs": [
    {
     "name": "stdout",
     "output_type": "stream",
     "text": [
      "['palabra']\n",
      "['bola']\n"
     ]
    }
   ],
   "source": [
    "texto = \"LA palabra palabras es ese\"\n",
    "patron = r'(p\\w+)\\s\\1'\n",
    "print(re.findall(patron, texto)) \n",
    "\n",
    "texto = \"bola bola es grande\"\n",
    "patron = r'(b\\w+)\\s\\1'\n",
    "\n",
    "print(re.findall(patron, texto)) "
   ]
  },
  {
   "cell_type": "code",
   "execution_count": 55,
   "metadata": {},
   "outputs": [
    {
     "name": "stdout",
     "output_type": "stream",
     "text": [
      "[' ', '\\t', '\\n']\n"
     ]
    }
   ],
   "source": [
    "texto = \"Hola mundo\\tPython\\nRegEx\"\n",
    "patron = r'\\s'\n",
    "\n",
    "print(re.findall(patron, texto))"
   ]
  },
  {
   "cell_type": "markdown",
   "metadata": {},
   "source": [
    "### Lookahead y Lookbehind\n",
    "\n",
    "Aserciones positivas y negativas"
   ]
  },
  {
   "cell_type": "markdown",
   "metadata": {},
   "source": [
    "#### Lookahead positivo (?=...)\n",
    "Coincide con una expresión solo si le sigue otra expresión."
   ]
  },
  {
   "cell_type": "code",
   "execution_count": 72,
   "metadata": {},
   "outputs": [
    {
     "name": "stdout",
     "output_type": "stream",
     "text": [
      "['apple']\n"
     ]
    }
   ],
   "source": [
    "texto = \"apple pie, apple tart, banana pie\"\n",
    "patron = r\"apple(?=\\spie)\"\n",
    "print(re.findall(patron, texto)) "
   ]
  },
  {
   "cell_type": "markdown",
   "metadata": {},
   "source": [
    "#### Lookahead negativo (?!...)\n",
    "Coincide con una expresión solo si no le sigue otra expresión."
   ]
  },
  {
   "cell_type": "code",
   "execution_count": 78,
   "metadata": {},
   "outputs": [
    {
     "name": "stdout",
     "output_type": "stream",
     "text": [
      "['apple']\n"
     ]
    }
   ],
   "source": [
    "texto = \"apple pie, apples tart, banana pie\"\n",
    "patron = r'apple(?!\\spie)'\n",
    "print(re.findall(patron, texto))    #imprime 'apple' pero la que esta antes de tart\n"
   ]
  },
  {
   "cell_type": "markdown",
   "metadata": {},
   "source": [
    "#### Lookbehind positivo (?<=...)\n",
    "Coincide con una expresión solo si está precedida por otra expresión."
   ]
  },
  {
   "cell_type": "code",
   "execution_count": 85,
   "metadata": {},
   "outputs": [
    {
     "name": "stdout",
     "output_type": "stream",
     "text": [
      "['bar']\n"
     ]
    }
   ],
   "source": [
    "texto = \"foo_bar foo baz\"\n",
    "patron = r\"(?<=foo_)\\w+\"\n",
    "print(re.findall(patron, texto))  # Salida: ['bar']"
   ]
  },
  {
   "cell_type": "markdown",
   "metadata": {},
   "source": [
    "#### Lookbehind negativo (?<!...)\n",
    "Coincide con una expresión solo si no está precedida por otra expresión."
   ]
  },
  {
   "cell_type": "code",
   "execution_count": 90,
   "metadata": {},
   "outputs": [
    {
     "name": "stdout",
     "output_type": "stream",
     "text": [
      "['foo_bar', 'foo', 'az']\n"
     ]
    }
   ],
   "source": [
    "texto = \"foo_bar foo baz\"\n",
    "patron = r\"(?<!foo\\s)\\w+\"\n",
    "print(re.findall(patron, texto))  "
   ]
  }
 ],
 "metadata": {
  "kernelspec": {
   "display_name": "Python 3 (ipykernel)",
   "language": "python",
   "name": "python3"
  },
  "language_info": {
   "codemirror_mode": {
    "name": "ipython",
    "version": 3
   },
   "file_extension": ".py",
   "mimetype": "text/x-python",
   "name": "python",
   "nbconvert_exporter": "python",
   "pygments_lexer": "ipython3",
   "version": "3.12.3"
  }
 },
 "nbformat": 4,
 "nbformat_minor": 2
}
