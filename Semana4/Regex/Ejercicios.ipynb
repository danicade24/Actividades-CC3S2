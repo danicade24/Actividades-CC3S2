{
 "cells": [
  {
   "cell_type": "markdown",
   "metadata": {},
   "source": [
    "### **Prácticas y ejercicios**"
   ]
  },
  {
   "cell_type": "code",
   "execution_count": 1,
   "metadata": {},
   "outputs": [],
   "source": [
    "import re"
   ]
  },
  {
   "cell_type": "code",
   "execution_count": 5,
   "metadata": {},
   "outputs": [
    {
     "name": "stdout",
     "output_type": "stream",
     "text": [
      "True\n",
      "False\n"
     ]
    }
   ],
   "source": [
    "# Validación de correos electrónicos\n",
    "\n",
    "def es_correo_valido(correo):\n",
    "    patron = r'^[\\w\\.-]+@[\\w\\.-]+\\.\\w{2,6}$'\n",
    "    return re.match(patron,correo) is not None\n",
    "\n",
    "print(es_correo_valido(\"usuario@dominio.com\"))\n",
    "print(es_correo_valido(\"usuario@dominio\"))"
   ]
  },
  {
   "cell_type": "code",
   "execution_count": 9,
   "metadata": {},
   "outputs": [
    {
     "name": "stdout",
     "output_type": "stream",
     "text": [
      "True\n",
      "False\n",
      "True\n"
     ]
    }
   ],
   "source": [
    "# Validación de números de teléfonos\n",
    "\n",
    "def es_telefono_valido(numero):\n",
    "    patron = r'^(\\(\\d{3}\\)\\s|\\d{3}-)\\d{3}-\\d{4}$'   # los paréntesis se representan: \\(\\)\n",
    "    return re.match(patron,numero) is not None\n",
    "\n",
    "print(es_telefono_valido(\"(123) 456-7890\"))\n",
    "print(es_telefono_valido(\"(123)-456-7890\"))\n",
    "print(es_telefono_valido(\"123-456-7890\"))\n"
   ]
  },
  {
   "cell_type": "code",
   "execution_count": 19,
   "metadata": {},
   "outputs": [
    {
     "name": "stdout",
     "output_type": "stream",
     "text": [
      "['192.168.1.1', '10.0.0.5']\n"
     ]
    }
   ],
   "source": [
    "# Extracción de dirección IP\n",
    "\n",
    "texto = \"El servidor está en 192.168.1.1 y el backup en 10.0.0.5.\"\n",
    "patron = r'\\b\\d{1,3}(?:\\.\\d{1,3}){3}\\b'\n",
    "print(re.findall(patron,texto))\n",
    "\n",
    "#El grupo no capturante (?:\\.\\d{1,3}) se usa aquí para agrupar el patrón que coincide con <punto><octeto>, \n",
    "#pero sin almacenar esa parte en la memoria de coincidencia."
   ]
  },
  {
   "cell_type": "code",
   "execution_count": 20,
   "metadata": {},
   "outputs": [
    {
     "name": "stdout",
     "output_type": "stream",
     "text": [
      "[('', 'div'), ('', 'p'), ('/', 'p'), ('/', 'div')]\n"
     ]
    }
   ],
   "source": [
    "# Etiquetas HTML\n",
    "\n",
    "texto = \"<div><p>Hola Mundo</p></div>\"\n",
    "patron = r'<(\\/?)(\\w+)>'\n",
    "print(re.findall(patron,texto))\n",
    "\n",
    "#Para la etiqueta <div>, el primer grupo captura una cadena vacía (porque no hay /), y el segundo grupo captura div"
   ]
  },
  {
   "cell_type": "code",
   "execution_count": 21,
   "metadata": {},
   "outputs": [
    {
     "name": "stdout",
     "output_type": "stream",
     "text": [
      "[]\n",
      "['Segunda']\n"
     ]
    }
   ],
   "source": [
    "texto = \"Primera línea\\nSegunda línea\"\n",
    "patron = r\"^Segunda\"\n",
    "\n",
    "print(re.findall(patron, texto))                  \n",
    "print(re.findall(patron, texto, re.MULTILINE))    "
   ]
  }
 ],
 "metadata": {
  "kernelspec": {
   "display_name": "Python 3 (ipykernel)",
   "language": "python",
   "name": "python3"
  }
 },
 "nbformat": 4,
 "nbformat_minor": 2
}
